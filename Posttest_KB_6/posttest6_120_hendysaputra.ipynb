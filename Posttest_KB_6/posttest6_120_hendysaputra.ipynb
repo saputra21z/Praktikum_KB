{
 "cells": [
  {
   "cell_type": "markdown",
   "id": "a3bb9ced-25f9-4883-b973-c42ac3aaf957",
   "metadata": {},
   "source": [
    "# POSTTEST 6\n",
    "## Nama : Hendy Saputra \n",
    "## Nim  : 2109106120"
   ]
  },
  {
   "cell_type": "markdown",
   "id": "e3afb902-6d95-40cd-95e0-b2a35c2321c4",
   "metadata": {},
   "source": [
    "### Libarary yang di gunakan"
   ]
  },
  {
   "cell_type": "code",
   "execution_count": 27,
   "id": "cf3ee3db-238f-4d56-a802-c59be62e2964",
   "metadata": {},
   "outputs": [],
   "source": [
    "import pandas as pd\n",
    "import numpy as np\n",
    "import tensorflow as tf\n",
    "from sklearn.model_selection import train_test_split\n",
    "from sklearn.preprocessing import StandardScaler\n",
    "from sklearn.metrics import accuracy_score\n",
    "from tensorflow import keras\n",
    "import matplotlib.pyplot as plt\n",
    "\n"
   ]
  },
  {
   "cell_type": "markdown",
   "id": "71367696-9579-443d-99e7-bd65f50eedd1",
   "metadata": {},
   "source": [
    "### Menampilkan data dalam dataset"
   ]
  },
  {
   "cell_type": "code",
   "execution_count": 28,
   "id": "9446a85b-30c3-4b9f-8d8e-a301326291b2",
   "metadata": {},
   "outputs": [
    {
     "data": {
      "text/html": [
       "<div>\n",
       "<style scoped>\n",
       "    .dataframe tbody tr th:only-of-type {\n",
       "        vertical-align: middle;\n",
       "    }\n",
       "\n",
       "    .dataframe tbody tr th {\n",
       "        vertical-align: top;\n",
       "    }\n",
       "\n",
       "    .dataframe thead th {\n",
       "        text-align: right;\n",
       "    }\n",
       "</style>\n",
       "<table border=\"1\" class=\"dataframe\">\n",
       "  <thead>\n",
       "    <tr style=\"text-align: right;\">\n",
       "      <th></th>\n",
       "      <th>gender</th>\n",
       "      <th>age</th>\n",
       "      <th>hypertension</th>\n",
       "      <th>heart_disease</th>\n",
       "      <th>smoking_history</th>\n",
       "      <th>bmi</th>\n",
       "      <th>HbA1c_level</th>\n",
       "      <th>blood_glucose_level</th>\n",
       "      <th>diabetes</th>\n",
       "    </tr>\n",
       "  </thead>\n",
       "  <tbody>\n",
       "    <tr>\n",
       "      <th>0</th>\n",
       "      <td>Female</td>\n",
       "      <td>80.0</td>\n",
       "      <td>0</td>\n",
       "      <td>1</td>\n",
       "      <td>never</td>\n",
       "      <td>25.19</td>\n",
       "      <td>6.6</td>\n",
       "      <td>140</td>\n",
       "      <td>0</td>\n",
       "    </tr>\n",
       "    <tr>\n",
       "      <th>1</th>\n",
       "      <td>Female</td>\n",
       "      <td>54.0</td>\n",
       "      <td>0</td>\n",
       "      <td>0</td>\n",
       "      <td>No Info</td>\n",
       "      <td>27.32</td>\n",
       "      <td>6.6</td>\n",
       "      <td>80</td>\n",
       "      <td>0</td>\n",
       "    </tr>\n",
       "    <tr>\n",
       "      <th>2</th>\n",
       "      <td>Male</td>\n",
       "      <td>28.0</td>\n",
       "      <td>0</td>\n",
       "      <td>0</td>\n",
       "      <td>never</td>\n",
       "      <td>27.32</td>\n",
       "      <td>5.7</td>\n",
       "      <td>158</td>\n",
       "      <td>0</td>\n",
       "    </tr>\n",
       "    <tr>\n",
       "      <th>3</th>\n",
       "      <td>Female</td>\n",
       "      <td>36.0</td>\n",
       "      <td>0</td>\n",
       "      <td>0</td>\n",
       "      <td>current</td>\n",
       "      <td>23.45</td>\n",
       "      <td>5.0</td>\n",
       "      <td>155</td>\n",
       "      <td>0</td>\n",
       "    </tr>\n",
       "    <tr>\n",
       "      <th>4</th>\n",
       "      <td>Male</td>\n",
       "      <td>76.0</td>\n",
       "      <td>1</td>\n",
       "      <td>1</td>\n",
       "      <td>current</td>\n",
       "      <td>20.14</td>\n",
       "      <td>4.8</td>\n",
       "      <td>155</td>\n",
       "      <td>0</td>\n",
       "    </tr>\n",
       "    <tr>\n",
       "      <th>...</th>\n",
       "      <td>...</td>\n",
       "      <td>...</td>\n",
       "      <td>...</td>\n",
       "      <td>...</td>\n",
       "      <td>...</td>\n",
       "      <td>...</td>\n",
       "      <td>...</td>\n",
       "      <td>...</td>\n",
       "      <td>...</td>\n",
       "    </tr>\n",
       "    <tr>\n",
       "      <th>99995</th>\n",
       "      <td>Female</td>\n",
       "      <td>80.0</td>\n",
       "      <td>0</td>\n",
       "      <td>0</td>\n",
       "      <td>No Info</td>\n",
       "      <td>27.32</td>\n",
       "      <td>6.2</td>\n",
       "      <td>90</td>\n",
       "      <td>0</td>\n",
       "    </tr>\n",
       "    <tr>\n",
       "      <th>99996</th>\n",
       "      <td>Female</td>\n",
       "      <td>2.0</td>\n",
       "      <td>0</td>\n",
       "      <td>0</td>\n",
       "      <td>No Info</td>\n",
       "      <td>17.37</td>\n",
       "      <td>6.5</td>\n",
       "      <td>100</td>\n",
       "      <td>0</td>\n",
       "    </tr>\n",
       "    <tr>\n",
       "      <th>99997</th>\n",
       "      <td>Male</td>\n",
       "      <td>66.0</td>\n",
       "      <td>0</td>\n",
       "      <td>0</td>\n",
       "      <td>former</td>\n",
       "      <td>27.83</td>\n",
       "      <td>5.7</td>\n",
       "      <td>155</td>\n",
       "      <td>0</td>\n",
       "    </tr>\n",
       "    <tr>\n",
       "      <th>99998</th>\n",
       "      <td>Female</td>\n",
       "      <td>24.0</td>\n",
       "      <td>0</td>\n",
       "      <td>0</td>\n",
       "      <td>never</td>\n",
       "      <td>35.42</td>\n",
       "      <td>4.0</td>\n",
       "      <td>100</td>\n",
       "      <td>0</td>\n",
       "    </tr>\n",
       "    <tr>\n",
       "      <th>99999</th>\n",
       "      <td>Female</td>\n",
       "      <td>57.0</td>\n",
       "      <td>0</td>\n",
       "      <td>0</td>\n",
       "      <td>current</td>\n",
       "      <td>22.43</td>\n",
       "      <td>6.6</td>\n",
       "      <td>90</td>\n",
       "      <td>0</td>\n",
       "    </tr>\n",
       "  </tbody>\n",
       "</table>\n",
       "<p>100000 rows × 9 columns</p>\n",
       "</div>"
      ],
      "text/plain": [
       "       gender   age  hypertension  heart_disease smoking_history    bmi  \\\n",
       "0      Female  80.0             0              1           never  25.19   \n",
       "1      Female  54.0             0              0         No Info  27.32   \n",
       "2        Male  28.0             0              0           never  27.32   \n",
       "3      Female  36.0             0              0         current  23.45   \n",
       "4        Male  76.0             1              1         current  20.14   \n",
       "...       ...   ...           ...            ...             ...    ...   \n",
       "99995  Female  80.0             0              0         No Info  27.32   \n",
       "99996  Female   2.0             0              0         No Info  17.37   \n",
       "99997    Male  66.0             0              0          former  27.83   \n",
       "99998  Female  24.0             0              0           never  35.42   \n",
       "99999  Female  57.0             0              0         current  22.43   \n",
       "\n",
       "       HbA1c_level  blood_glucose_level  diabetes  \n",
       "0              6.6                  140         0  \n",
       "1              6.6                   80         0  \n",
       "2              5.7                  158         0  \n",
       "3              5.0                  155         0  \n",
       "4              4.8                  155         0  \n",
       "...            ...                  ...       ...  \n",
       "99995          6.2                   90         0  \n",
       "99996          6.5                  100         0  \n",
       "99997          5.7                  155         0  \n",
       "99998          4.0                  100         0  \n",
       "99999          6.6                   90         0  \n",
       "\n",
       "[100000 rows x 9 columns]"
      ]
     },
     "execution_count": 28,
     "metadata": {},
     "output_type": "execute_result"
    }
   ],
   "source": [
    "data = pd.read_csv(\"diabetes_prediction_dataset.csv\")\n",
    "\n",
    "data"
   ]
  },
  {
   "cell_type": "markdown",
   "id": "5cef3577-02fd-4f46-9f04-027f1f041db8",
   "metadata": {},
   "source": [
    "### Memilih Atribut x dan y"
   ]
  },
  {
   "cell_type": "code",
   "execution_count": 29,
   "id": "096bfb49-21ff-4abe-81c5-0fb173f93a1d",
   "metadata": {},
   "outputs": [],
   "source": [
    "# Memilih atribut age dan blood_glucose_level sebagai atribut x\n",
    "X = data[['age', 'blood_glucose_level']]\n",
    "\n",
    "# Memilih atribut diabetes sebagai label y\n",
    "y = data['diabetes']"
   ]
  },
  {
   "cell_type": "markdown",
   "id": "8a055ec7-285a-4a96-8e83-6e4f7b17f59d",
   "metadata": {},
   "source": [
    "### Split Dataset Menjadi train dan set"
   ]
  },
  {
   "cell_type": "code",
   "execution_count": 30,
   "id": "bacfa7a1-d01c-4429-8d61-a2fd9a1ac323",
   "metadata": {},
   "outputs": [],
   "source": [
    "# Memisahkan dataset menjadi train  dan test\n",
    "X_train, X_test, y_train, y_test = train_test_split(X, y, test_size=0.2, random_state=42)"
   ]
  },
  {
   "cell_type": "markdown",
   "id": "e63c3a9b-17a0-4057-9e4e-769e213afb9a",
   "metadata": {},
   "source": [
    "### Melakukan Preprocessing dengan Normalisasi"
   ]
  },
  {
   "cell_type": "code",
   "execution_count": 31,
   "id": "a071eb6b-b95c-483e-91c2-e51d50a362a2",
   "metadata": {},
   "outputs": [],
   "source": [
    "# Normalisasi fitur\n",
    "scaler = StandardScaler()\n",
    "X_train = scaler.fit_transform(X_train)\n",
    "X_test = scaler.transform(X_test)"
   ]
  },
  {
   "cell_type": "markdown",
   "id": "1812de49-e18f-4f0f-803d-e19ff9616f98",
   "metadata": {},
   "source": [
    "### Membangun model Dengan Sequential\n",
    "#### Dan Output Layer Target Saya Adalah Kategorikal Menggunakan biner"
   ]
  },
  {
   "cell_type": "code",
   "execution_count": 32,
   "id": "ca5cc8cd-32ed-49c0-94de-4223a9f3dde6",
   "metadata": {},
   "outputs": [],
   "source": [
    "model = keras.Sequential([\n",
    "    keras.layers.Dense(64, activation='relu', input_shape=(2,)),\n",
    "    keras.layers.Dense(32, activation='relu'),\n",
    "    keras.layers.Dense(1, activation='sigmoid')  \n",
    "    ])"
   ]
  },
  {
   "cell_type": "markdown",
   "id": "59c45f94-3ee7-4d43-997c-eee7e6e2575a",
   "metadata": {},
   "source": [
    "### Compile Model Dengan binary_crossentropy, accuracy"
   ]
  },
  {
   "cell_type": "code",
   "execution_count": 33,
   "id": "3865768f-0918-4159-a390-f6dbcbdf21c6",
   "metadata": {},
   "outputs": [],
   "source": [
    "# Kompilasi model\n",
    "model.compile(optimizer='adam', loss='binary_crossentropy', metrics=['accuracy'])\n",
    "\n"
   ]
  },
  {
   "cell_type": "markdown",
   "id": "3d319c07-40c1-4a5f-b9cd-6821fe9b3089",
   "metadata": {},
   "source": [
    "### Melatih Model"
   ]
  },
  {
   "cell_type": "code",
   "execution_count": 34,
   "id": "f4ab1067-a5d2-4f1f-af5b-60c9128d5a21",
   "metadata": {},
   "outputs": [
    {
     "name": "stdout",
     "output_type": "stream",
     "text": [
      "Epoch 1/50\n"
     ]
    },
    {
     "name": "stderr",
     "output_type": "stream",
     "text": [
      "/Library/Frameworks/Python.framework/Versions/3.9/lib/python3.9/site-packages/keras/src/engine/data_adapter.py:1808: FutureWarning: The behavior of `series[i:j]` with an integer-dtype index is deprecated. In a future version, this will be treated as *label-based* indexing, consistent with e.g. `series[i]` lookups. To retain the old behavior, use `series.iloc[i:j]`. To get the future behavior, use `series.loc[i:j]`.\n",
      "  return t[start:end]\n"
     ]
    },
    {
     "name": "stdout",
     "output_type": "stream",
     "text": [
      "2250/2250 [==============================] - 7s 3ms/step - loss: 0.1825 - accuracy: 0.9430 - val_loss: 0.1664 - val_accuracy: 0.9457\n",
      "Epoch 2/50\n",
      "2250/2250 [==============================] - 6s 3ms/step - loss: 0.1614 - accuracy: 0.9479 - val_loss: 0.1637 - val_accuracy: 0.9463\n",
      "Epoch 3/50\n",
      "2250/2250 [==============================] - 6s 3ms/step - loss: 0.1603 - accuracy: 0.9480 - val_loss: 0.1627 - val_accuracy: 0.9464\n",
      "Epoch 4/50\n",
      "2250/2250 [==============================] - 6s 3ms/step - loss: 0.1600 - accuracy: 0.9481 - val_loss: 0.1626 - val_accuracy: 0.9463\n",
      "Epoch 5/50\n",
      "2250/2250 [==============================] - 6s 3ms/step - loss: 0.1600 - accuracy: 0.9480 - val_loss: 0.1624 - val_accuracy: 0.9464\n",
      "Epoch 6/50\n",
      "2250/2250 [==============================] - 6s 3ms/step - loss: 0.1597 - accuracy: 0.9481 - val_loss: 0.1649 - val_accuracy: 0.9464\n",
      "Epoch 7/50\n",
      "2250/2250 [==============================] - 7s 3ms/step - loss: 0.1598 - accuracy: 0.9481 - val_loss: 0.1629 - val_accuracy: 0.9464\n",
      "Epoch 8/50\n",
      "2250/2250 [==============================] - 6s 3ms/step - loss: 0.1599 - accuracy: 0.9481 - val_loss: 0.1640 - val_accuracy: 0.9464\n",
      "Epoch 9/50\n",
      "2250/2250 [==============================] - 6s 3ms/step - loss: 0.1598 - accuracy: 0.9481 - val_loss: 0.1638 - val_accuracy: 0.9464\n",
      "Epoch 10/50\n",
      "2250/2250 [==============================] - 6s 3ms/step - loss: 0.1598 - accuracy: 0.9481 - val_loss: 0.1622 - val_accuracy: 0.9464\n",
      "Epoch 11/50\n",
      "2250/2250 [==============================] - 6s 3ms/step - loss: 0.1596 - accuracy: 0.9481 - val_loss: 0.1622 - val_accuracy: 0.9464\n",
      "Epoch 12/50\n",
      "2250/2250 [==============================] - 7s 3ms/step - loss: 0.1597 - accuracy: 0.9481 - val_loss: 0.1622 - val_accuracy: 0.9464\n",
      "Epoch 13/50\n",
      "2250/2250 [==============================] - 6s 3ms/step - loss: 0.1596 - accuracy: 0.9481 - val_loss: 0.1623 - val_accuracy: 0.9464\n",
      "Epoch 14/50\n",
      "2250/2250 [==============================] - 6s 3ms/step - loss: 0.1597 - accuracy: 0.9481 - val_loss: 0.1626 - val_accuracy: 0.9464\n",
      "Epoch 15/50\n",
      "2250/2250 [==============================] - 6s 3ms/step - loss: 0.1597 - accuracy: 0.9480 - val_loss: 0.1620 - val_accuracy: 0.9464\n",
      "Epoch 16/50\n",
      "2250/2250 [==============================] - 7s 3ms/step - loss: 0.1597 - accuracy: 0.9481 - val_loss: 0.1621 - val_accuracy: 0.9464\n",
      "Epoch 17/50\n",
      "2250/2250 [==============================] - 6s 3ms/step - loss: 0.1596 - accuracy: 0.9481 - val_loss: 0.1621 - val_accuracy: 0.9464\n",
      "Epoch 18/50\n",
      "2250/2250 [==============================] - 6s 3ms/step - loss: 0.1597 - accuracy: 0.9480 - val_loss: 0.1622 - val_accuracy: 0.9464\n",
      "Epoch 19/50\n",
      "2250/2250 [==============================] - 6s 3ms/step - loss: 0.1596 - accuracy: 0.9481 - val_loss: 0.1623 - val_accuracy: 0.9464\n",
      "Epoch 20/50\n",
      "2250/2250 [==============================] - 7s 3ms/step - loss: 0.1596 - accuracy: 0.9481 - val_loss: 0.1624 - val_accuracy: 0.9464\n",
      "Epoch 21/50\n",
      "2250/2250 [==============================] - 6s 3ms/step - loss: 0.1596 - accuracy: 0.9481 - val_loss: 0.1625 - val_accuracy: 0.9464\n",
      "Epoch 22/50\n",
      "2250/2250 [==============================] - 6s 3ms/step - loss: 0.1597 - accuracy: 0.9480 - val_loss: 0.1627 - val_accuracy: 0.9464\n",
      "Epoch 23/50\n",
      "2250/2250 [==============================] - 7s 3ms/step - loss: 0.1596 - accuracy: 0.9481 - val_loss: 0.1624 - val_accuracy: 0.9464\n",
      "Epoch 24/50\n",
      "2250/2250 [==============================] - 7s 3ms/step - loss: 0.1596 - accuracy: 0.9481 - val_loss: 0.1624 - val_accuracy: 0.9464\n",
      "Epoch 25/50\n",
      "2250/2250 [==============================] - 7s 3ms/step - loss: 0.1596 - accuracy: 0.9481 - val_loss: 0.1622 - val_accuracy: 0.9464\n",
      "Epoch 26/50\n",
      "2250/2250 [==============================] - 7s 3ms/step - loss: 0.1595 - accuracy: 0.9481 - val_loss: 0.1621 - val_accuracy: 0.9464\n",
      "Epoch 27/50\n",
      "2250/2250 [==============================] - 6s 3ms/step - loss: 0.1595 - accuracy: 0.9481 - val_loss: 0.1626 - val_accuracy: 0.9464\n",
      "Epoch 28/50\n",
      "2250/2250 [==============================] - 7s 3ms/step - loss: 0.1596 - accuracy: 0.9481 - val_loss: 0.1630 - val_accuracy: 0.9464\n",
      "Epoch 29/50\n",
      "2250/2250 [==============================] - 6s 3ms/step - loss: 0.1596 - accuracy: 0.9481 - val_loss: 0.1631 - val_accuracy: 0.9464\n",
      "Epoch 30/50\n",
      "2250/2250 [==============================] - 6s 3ms/step - loss: 0.1595 - accuracy: 0.9481 - val_loss: 0.1621 - val_accuracy: 0.9464\n",
      "Epoch 31/50\n",
      "2250/2250 [==============================] - 6s 3ms/step - loss: 0.1595 - accuracy: 0.9481 - val_loss: 0.1621 - val_accuracy: 0.9464\n",
      "Epoch 32/50\n",
      "2250/2250 [==============================] - 6s 3ms/step - loss: 0.1596 - accuracy: 0.9481 - val_loss: 0.1623 - val_accuracy: 0.9464\n",
      "Epoch 33/50\n",
      "2250/2250 [==============================] - 6s 3ms/step - loss: 0.1596 - accuracy: 0.9481 - val_loss: 0.1626 - val_accuracy: 0.9464\n",
      "Epoch 34/50\n",
      "2250/2250 [==============================] - 7s 3ms/step - loss: 0.1593 - accuracy: 0.9481 - val_loss: 0.1629 - val_accuracy: 0.9464\n",
      "Epoch 35/50\n",
      "2250/2250 [==============================] - 6s 3ms/step - loss: 0.1595 - accuracy: 0.9481 - val_loss: 0.1622 - val_accuracy: 0.9464\n",
      "Epoch 36/50\n",
      "2250/2250 [==============================] - 6s 3ms/step - loss: 0.1594 - accuracy: 0.9481 - val_loss: 0.1624 - val_accuracy: 0.9464\n",
      "Epoch 37/50\n",
      "2250/2250 [==============================] - 6s 3ms/step - loss: 0.1595 - accuracy: 0.9481 - val_loss: 0.1622 - val_accuracy: 0.9464\n",
      "Epoch 38/50\n",
      "2250/2250 [==============================] - 6s 3ms/step - loss: 0.1594 - accuracy: 0.9481 - val_loss: 0.1645 - val_accuracy: 0.9464\n",
      "Epoch 39/50\n",
      "2250/2250 [==============================] - 6s 3ms/step - loss: 0.1596 - accuracy: 0.9481 - val_loss: 0.1622 - val_accuracy: 0.9464\n",
      "Epoch 40/50\n",
      "2250/2250 [==============================] - 6s 3ms/step - loss: 0.1594 - accuracy: 0.9481 - val_loss: 0.1629 - val_accuracy: 0.9464\n",
      "Epoch 41/50\n",
      "2250/2250 [==============================] - 6s 3ms/step - loss: 0.1597 - accuracy: 0.9480 - val_loss: 0.1622 - val_accuracy: 0.9464\n",
      "Epoch 42/50\n",
      "2250/2250 [==============================] - 6s 3ms/step - loss: 0.1595 - accuracy: 0.9481 - val_loss: 0.1627 - val_accuracy: 0.9464\n",
      "Epoch 43/50\n",
      "2250/2250 [==============================] - 6s 3ms/step - loss: 0.1594 - accuracy: 0.9481 - val_loss: 0.1624 - val_accuracy: 0.9464\n",
      "Epoch 44/50\n",
      "2250/2250 [==============================] - 6s 3ms/step - loss: 0.1595 - accuracy: 0.9481 - val_loss: 0.1625 - val_accuracy: 0.9464\n",
      "Epoch 45/50\n",
      "2250/2250 [==============================] - 6s 3ms/step - loss: 0.1595 - accuracy: 0.9481 - val_loss: 0.1621 - val_accuracy: 0.9464\n",
      "Epoch 46/50\n",
      "2250/2250 [==============================] - 7s 3ms/step - loss: 0.1595 - accuracy: 0.9481 - val_loss: 0.1620 - val_accuracy: 0.9464\n",
      "Epoch 47/50\n",
      "2250/2250 [==============================] - 7s 3ms/step - loss: 0.1594 - accuracy: 0.9481 - val_loss: 0.1621 - val_accuracy: 0.9464\n",
      "Epoch 48/50\n",
      "2250/2250 [==============================] - 7s 3ms/step - loss: 0.1594 - accuracy: 0.9481 - val_loss: 0.1623 - val_accuracy: 0.9464\n",
      "Epoch 49/50\n",
      "2250/2250 [==============================] - 6s 3ms/step - loss: 0.1594 - accuracy: 0.9480 - val_loss: 0.1624 - val_accuracy: 0.9464\n",
      "Epoch 50/50\n",
      "2250/2250 [==============================] - 6s 3ms/step - loss: 0.1594 - accuracy: 0.9481 - val_loss: 0.1622 - val_accuracy: 0.9464\n"
     ]
    }
   ],
   "source": [
    "# Pelatihan model\n",
    "history = model.fit(X_train, y_train, epochs=50, batch_size=32, validation_split=0.1)"
   ]
  },
  {
   "cell_type": "markdown",
   "id": "97b9e533-828f-4f8e-9adb-2b1444651592",
   "metadata": {},
   "source": [
    "### Melatih Model Dengan Accuracy"
   ]
  },
  {
   "cell_type": "code",
   "execution_count": 35,
   "id": "bb68e772-9ffd-4b3f-9e09-ad46ab59af08",
   "metadata": {},
   "outputs": [
    {
     "name": "stdout",
     "output_type": "stream",
     "text": [
      "625/625 [==============================] - 1s 2ms/step\n"
     ]
    }
   ],
   "source": [
    "# Evaluasi model pada test set\n",
    "y_pred = (model.predict(X_test) > 0.5).astype(\"int32\")  \n",
    "accuracy = accuracy_score(y_test, y_pred)\n",
    "\n"
   ]
  },
  {
   "cell_type": "markdown",
   "id": "42dea2a6-17fd-4dae-9c1a-9871a16a4bc2",
   "metadata": {},
   "source": [
    "### Grafik Akurasi"
   ]
  },
  {
   "cell_type": "code",
   "execution_count": 36,
   "id": "79a7eb6b-19bb-4129-8ecf-4d4a25bff0fa",
   "metadata": {},
   "outputs": [
    {
     "data": {
      "text/plain": [
       "<matplotlib.legend.Legend at 0x7f8622624640>"
      ]
     },
     "execution_count": 36,
     "metadata": {},
     "output_type": "execute_result"
    },
    {
     "data": {
      "image/png": "[encoded data removed]",
      "text/plain": [
       "<Figure size 1200x400 with 1 Axes>"
      ]
     },
     "metadata": {},
     "output_type": "display_data"
    }
   ],
   "source": [
    "# Membuat grafik pergerakan metrik (akurasi dan loss)\n",
    "plt.figure(figsize=(12, 4))\n",
    "plt.subplot(1, 2, 1)\n",
    "plt.plot(history.history['accuracy'], label='Akurasi Pelatihan')\n",
    "plt.plot(history.history['val_accuracy'], label='Akurasi Validasi')\n",
    "plt.xlabel('Epoch')\n",
    "plt.ylabel('Akurasi')\n",
    "plt.title('Grafik Akurasi')\n",
    "plt.legend(loc='lower right')"
   ]
  },
  {
   "cell_type": "markdown",
   "id": "83d00979-6c18-4734-9389-5a4e5603e6d8",
   "metadata": {},
   "source": [
    "### Grafik Loss"
   ]
  },
  {
   "cell_type": "code",
   "execution_count": 37,
   "id": "6ec17c70-1a91-4d11-88be-ab1a9f78cb32",
   "metadata": {},
   "outputs": [
    {
     "data": {
      "image/png": "[encoded data removed]",
      "text/plain": [
       "<Figure size 640x480 with 1 Axes>"
      ]
     },
     "metadata": {},
     "output_type": "display_data"
    }
   ],
   "source": [
    "plt.subplot(1, 2, 2)\n",
    "plt.plot(history.history['loss'], label='Loss Pelatihan')\n",
    "plt.plot(history.history['val_loss'], label='Loss Validasi')\n",
    "plt.xlabel('Epoch')\n",
    "plt.ylabel('Loss')\n",
    "plt.legend(loc='upper right')\n",
    "plt.title('Grafik Loss')\n",
    "plt.show()"
   ]
  },
  {
   "cell_type": "markdown",
   "id": "aa42f7b8-d3ca-4d08-b4ce-a91fd50fa45f",
   "metadata": {},
   "source": [
    "### Output Nilai dengan AKURASI"
   ]
  },
  {
   "cell_type": "code",
   "execution_count": 38,
   "id": "a95deee2-6cfe-426d-b38a-a130d60276f6",
   "metadata": {},
   "outputs": [
    {
     "name": "stdout",
     "output_type": "stream",
     "text": [
      "Akurasi model pada test set 0.94725\n"
     ]
    }
   ],
   "source": [
    "print(\"Akurasi model pada test set\",accuracy)"
   ]
  },
  {
   "cell_type": "code",
   "execution_count": null,
   "id": "fcaa7744-7034-49b4-a614-85d1221d8304",
   "metadata": {},
   "outputs": [],
   "source": []
  },
  {
   "cell_type": "code",
   "execution_count": null,
   "id": "13e98515-673c-4dc3-9493-6df222ab076e",
   "metadata": {},
   "outputs": [],
   "source": []
  }
 ],
 "metadata": {
  "kernelspec": {
   "display_name": "Python 3 (ipykernel)",
   "language": "python",
   "name": "python3"
  },
  "language_info": {
   "codemirror_mode": {
    "name": "ipython",
    "version": 3
   },
   "file_extension": ".py",
   "mimetype": "text/x-python",
   "name": "python",
   "nbconvert_exporter": "python",
   "pygments_lexer": "ipython3",
   "version": "3.9.8"
  }
 },
 "nbformat": 4,
 "nbformat_minor": 5
}
