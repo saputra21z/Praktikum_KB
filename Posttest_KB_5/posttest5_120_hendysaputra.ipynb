{
 "cells": [
  {
   "cell_type": "markdown",
   "id": "f9089ddf-17b2-4896-a741-9e1965f0bb75",
   "metadata": {},
   "source": [
    "# POSTTEST 5 \n",
    "  ## Nama : Hendy Saputra\n",
    "  ## Nim  : 2109106120\n",
    "  ## Kelas: Informatika C'21"
   ]
  },
  {
   "cell_type": "markdown",
   "id": "8b6b487f-30c7-4407-9cd7-aec858469492",
   "metadata": {},
   "source": [
    "### Library yang di gunakan "
   ]
  },
  {
   "cell_type": "code",
   "execution_count": 107,
   "id": "a285821e-6823-4b6b-9910-2dc48ddcb5b3",
   "metadata": {},
   "outputs": [],
   "source": [
    "import numpy as np\n",
    "import pandas as pd\n",
    "from sklearn.svm import SVC\n",
    "from sklearn.model_selection import train_test_split\n",
    "from sklearn.preprocessing import MinMaxScaler, StandardScaler, OneHotEncoder, LabelEncoder\n",
    "from sklearn.metrics import accuracy_score, precision_score, recall_score, confusion_matrix, classification_report"
   ]
  },
  {
   "cell_type": "markdown",
   "id": "421bc164-f627-4abb-b06e-f68ea738c168",
   "metadata": {},
   "source": [
    "### Menampilkan data"
   ]
  },
  {
   "cell_type": "code",
   "execution_count": 108,
   "id": "a94a3e6e-a094-45c3-b7dd-d0384b65d7e7",
   "metadata": {},
   "outputs": [
    {
     "data": {
      "text/html": [
       "<div>\n",
       "<style scoped>\n",
       "    .dataframe tbody tr th:only-of-type {\n",
       "        vertical-align: middle;\n",
       "    }\n",
       "\n",
       "    .dataframe tbody tr th {\n",
       "        vertical-align: top;\n",
       "    }\n",
       "\n",
       "    .dataframe thead th {\n",
       "        text-align: right;\n",
       "    }\n",
       "</style>\n",
       "<table border=\"1\" class=\"dataframe\">\n",
       "  <thead>\n",
       "    <tr style=\"text-align: right;\">\n",
       "      <th></th>\n",
       "      <th>gender</th>\n",
       "      <th>age</th>\n",
       "      <th>hypertension</th>\n",
       "      <th>heart_disease</th>\n",
       "      <th>smoking_history</th>\n",
       "      <th>bmi</th>\n",
       "      <th>HbA1c_level</th>\n",
       "      <th>blood_glucose_level</th>\n",
       "      <th>diabetes</th>\n",
       "    </tr>\n",
       "  </thead>\n",
       "  <tbody>\n",
       "    <tr>\n",
       "      <th>0</th>\n",
       "      <td>Female</td>\n",
       "      <td>80.0</td>\n",
       "      <td>0</td>\n",
       "      <td>1</td>\n",
       "      <td>never</td>\n",
       "      <td>25.19</td>\n",
       "      <td>6.6</td>\n",
       "      <td>140</td>\n",
       "      <td>0</td>\n",
       "    </tr>\n",
       "    <tr>\n",
       "      <th>1</th>\n",
       "      <td>Female</td>\n",
       "      <td>54.0</td>\n",
       "      <td>0</td>\n",
       "      <td>0</td>\n",
       "      <td>No Info</td>\n",
       "      <td>27.32</td>\n",
       "      <td>6.6</td>\n",
       "      <td>80</td>\n",
       "      <td>0</td>\n",
       "    </tr>\n",
       "    <tr>\n",
       "      <th>2</th>\n",
       "      <td>Male</td>\n",
       "      <td>28.0</td>\n",
       "      <td>0</td>\n",
       "      <td>0</td>\n",
       "      <td>never</td>\n",
       "      <td>27.32</td>\n",
       "      <td>5.7</td>\n",
       "      <td>158</td>\n",
       "      <td>0</td>\n",
       "    </tr>\n",
       "    <tr>\n",
       "      <th>3</th>\n",
       "      <td>Female</td>\n",
       "      <td>36.0</td>\n",
       "      <td>0</td>\n",
       "      <td>0</td>\n",
       "      <td>current</td>\n",
       "      <td>23.45</td>\n",
       "      <td>5.0</td>\n",
       "      <td>155</td>\n",
       "      <td>0</td>\n",
       "    </tr>\n",
       "    <tr>\n",
       "      <th>4</th>\n",
       "      <td>Male</td>\n",
       "      <td>76.0</td>\n",
       "      <td>1</td>\n",
       "      <td>1</td>\n",
       "      <td>current</td>\n",
       "      <td>20.14</td>\n",
       "      <td>4.8</td>\n",
       "      <td>155</td>\n",
       "      <td>0</td>\n",
       "    </tr>\n",
       "    <tr>\n",
       "      <th>...</th>\n",
       "      <td>...</td>\n",
       "      <td>...</td>\n",
       "      <td>...</td>\n",
       "      <td>...</td>\n",
       "      <td>...</td>\n",
       "      <td>...</td>\n",
       "      <td>...</td>\n",
       "      <td>...</td>\n",
       "      <td>...</td>\n",
       "    </tr>\n",
       "    <tr>\n",
       "      <th>99995</th>\n",
       "      <td>Female</td>\n",
       "      <td>80.0</td>\n",
       "      <td>0</td>\n",
       "      <td>0</td>\n",
       "      <td>No Info</td>\n",
       "      <td>27.32</td>\n",
       "      <td>6.2</td>\n",
       "      <td>90</td>\n",
       "      <td>0</td>\n",
       "    </tr>\n",
       "    <tr>\n",
       "      <th>99996</th>\n",
       "      <td>Female</td>\n",
       "      <td>2.0</td>\n",
       "      <td>0</td>\n",
       "      <td>0</td>\n",
       "      <td>No Info</td>\n",
       "      <td>17.37</td>\n",
       "      <td>6.5</td>\n",
       "      <td>100</td>\n",
       "      <td>0</td>\n",
       "    </tr>\n",
       "    <tr>\n",
       "      <th>99997</th>\n",
       "      <td>Male</td>\n",
       "      <td>66.0</td>\n",
       "      <td>0</td>\n",
       "      <td>0</td>\n",
       "      <td>former</td>\n",
       "      <td>27.83</td>\n",
       "      <td>5.7</td>\n",
       "      <td>155</td>\n",
       "      <td>0</td>\n",
       "    </tr>\n",
       "    <tr>\n",
       "      <th>99998</th>\n",
       "      <td>Female</td>\n",
       "      <td>24.0</td>\n",
       "      <td>0</td>\n",
       "      <td>0</td>\n",
       "      <td>never</td>\n",
       "      <td>35.42</td>\n",
       "      <td>4.0</td>\n",
       "      <td>100</td>\n",
       "      <td>0</td>\n",
       "    </tr>\n",
       "    <tr>\n",
       "      <th>99999</th>\n",
       "      <td>Female</td>\n",
       "      <td>57.0</td>\n",
       "      <td>0</td>\n",
       "      <td>0</td>\n",
       "      <td>current</td>\n",
       "      <td>22.43</td>\n",
       "      <td>6.6</td>\n",
       "      <td>90</td>\n",
       "      <td>0</td>\n",
       "    </tr>\n",
       "  </tbody>\n",
       "</table>\n",
       "<p>100000 rows × 9 columns</p>\n",
       "</div>"
      ],
      "text/plain": [
       "       gender   age  hypertension  heart_disease smoking_history    bmi  \\\n",
       "0      Female  80.0             0              1           never  25.19   \n",
       "1      Female  54.0             0              0         No Info  27.32   \n",
       "2        Male  28.0             0              0           never  27.32   \n",
       "3      Female  36.0             0              0         current  23.45   \n",
       "4        Male  76.0             1              1         current  20.14   \n",
       "...       ...   ...           ...            ...             ...    ...   \n",
       "99995  Female  80.0             0              0         No Info  27.32   \n",
       "99996  Female   2.0             0              0         No Info  17.37   \n",
       "99997    Male  66.0             0              0          former  27.83   \n",
       "99998  Female  24.0             0              0           never  35.42   \n",
       "99999  Female  57.0             0              0         current  22.43   \n",
       "\n",
       "       HbA1c_level  blood_glucose_level  diabetes  \n",
       "0              6.6                  140         0  \n",
       "1              6.6                   80         0  \n",
       "2              5.7                  158         0  \n",
       "3              5.0                  155         0  \n",
       "4              4.8                  155         0  \n",
       "...            ...                  ...       ...  \n",
       "99995          6.2                   90         0  \n",
       "99996          6.5                  100         0  \n",
       "99997          5.7                  155         0  \n",
       "99998          4.0                  100         0  \n",
       "99999          6.6                   90         0  \n",
       "\n",
       "[100000 rows x 9 columns]"
      ]
     },
     "execution_count": 108,
     "metadata": {},
     "output_type": "execute_result"
    }
   ],
   "source": [
    "data = pd.read_csv('diabetes_prediction_dataset.csv')\n",
    "data\n"
   ]
  },
  {
   "cell_type": "markdown",
   "id": "4e0e21fd-ce1f-4a13-b5a9-55c45e56b137",
   "metadata": {},
   "source": [
    "### melakukan encoder untuk data kategorikal dan number"
   ]
  },
  {
   "cell_type": "code",
   "execution_count": 109,
   "id": "c24cc071-2c7a-45c2-938a-ec0039658551",
   "metadata": {},
   "outputs": [
    {
     "data": {
      "text/html": [
       "<div>\n",
       "<style scoped>\n",
       "    .dataframe tbody tr th:only-of-type {\n",
       "        vertical-align: middle;\n",
       "    }\n",
       "\n",
       "    .dataframe tbody tr th {\n",
       "        vertical-align: top;\n",
       "    }\n",
       "\n",
       "    .dataframe thead th {\n",
       "        text-align: right;\n",
       "    }\n",
       "</style>\n",
       "<table border=\"1\" class=\"dataframe\">\n",
       "  <thead>\n",
       "    <tr style=\"text-align: right;\">\n",
       "      <th></th>\n",
       "      <th>gender</th>\n",
       "      <th>age</th>\n",
       "      <th>hypertension</th>\n",
       "      <th>heart_disease</th>\n",
       "      <th>smoking_history</th>\n",
       "      <th>bmi</th>\n",
       "      <th>HbA1c_level</th>\n",
       "      <th>blood_glucose_level</th>\n",
       "      <th>diabetes</th>\n",
       "    </tr>\n",
       "  </thead>\n",
       "  <tbody>\n",
       "    <tr>\n",
       "      <th>0</th>\n",
       "      <td>0</td>\n",
       "      <td>80.0</td>\n",
       "      <td>0</td>\n",
       "      <td>1</td>\n",
       "      <td>4</td>\n",
       "      <td>25.19</td>\n",
       "      <td>6.6</td>\n",
       "      <td>140</td>\n",
       "      <td>0</td>\n",
       "    </tr>\n",
       "    <tr>\n",
       "      <th>1</th>\n",
       "      <td>0</td>\n",
       "      <td>54.0</td>\n",
       "      <td>0</td>\n",
       "      <td>0</td>\n",
       "      <td>0</td>\n",
       "      <td>27.32</td>\n",
       "      <td>6.6</td>\n",
       "      <td>80</td>\n",
       "      <td>0</td>\n",
       "    </tr>\n",
       "    <tr>\n",
       "      <th>2</th>\n",
       "      <td>1</td>\n",
       "      <td>28.0</td>\n",
       "      <td>0</td>\n",
       "      <td>0</td>\n",
       "      <td>4</td>\n",
       "      <td>27.32</td>\n",
       "      <td>5.7</td>\n",
       "      <td>158</td>\n",
       "      <td>0</td>\n",
       "    </tr>\n",
       "    <tr>\n",
       "      <th>3</th>\n",
       "      <td>0</td>\n",
       "      <td>36.0</td>\n",
       "      <td>0</td>\n",
       "      <td>0</td>\n",
       "      <td>1</td>\n",
       "      <td>23.45</td>\n",
       "      <td>5.0</td>\n",
       "      <td>155</td>\n",
       "      <td>0</td>\n",
       "    </tr>\n",
       "    <tr>\n",
       "      <th>4</th>\n",
       "      <td>1</td>\n",
       "      <td>76.0</td>\n",
       "      <td>1</td>\n",
       "      <td>1</td>\n",
       "      <td>1</td>\n",
       "      <td>20.14</td>\n",
       "      <td>4.8</td>\n",
       "      <td>155</td>\n",
       "      <td>0</td>\n",
       "    </tr>\n",
       "    <tr>\n",
       "      <th>...</th>\n",
       "      <td>...</td>\n",
       "      <td>...</td>\n",
       "      <td>...</td>\n",
       "      <td>...</td>\n",
       "      <td>...</td>\n",
       "      <td>...</td>\n",
       "      <td>...</td>\n",
       "      <td>...</td>\n",
       "      <td>...</td>\n",
       "    </tr>\n",
       "    <tr>\n",
       "      <th>99995</th>\n",
       "      <td>0</td>\n",
       "      <td>80.0</td>\n",
       "      <td>0</td>\n",
       "      <td>0</td>\n",
       "      <td>0</td>\n",
       "      <td>27.32</td>\n",
       "      <td>6.2</td>\n",
       "      <td>90</td>\n",
       "      <td>0</td>\n",
       "    </tr>\n",
       "    <tr>\n",
       "      <th>99996</th>\n",
       "      <td>0</td>\n",
       "      <td>2.0</td>\n",
       "      <td>0</td>\n",
       "      <td>0</td>\n",
       "      <td>0</td>\n",
       "      <td>17.37</td>\n",
       "      <td>6.5</td>\n",
       "      <td>100</td>\n",
       "      <td>0</td>\n",
       "    </tr>\n",
       "    <tr>\n",
       "      <th>99997</th>\n",
       "      <td>1</td>\n",
       "      <td>66.0</td>\n",
       "      <td>0</td>\n",
       "      <td>0</td>\n",
       "      <td>3</td>\n",
       "      <td>27.83</td>\n",
       "      <td>5.7</td>\n",
       "      <td>155</td>\n",
       "      <td>0</td>\n",
       "    </tr>\n",
       "    <tr>\n",
       "      <th>99998</th>\n",
       "      <td>0</td>\n",
       "      <td>24.0</td>\n",
       "      <td>0</td>\n",
       "      <td>0</td>\n",
       "      <td>4</td>\n",
       "      <td>35.42</td>\n",
       "      <td>4.0</td>\n",
       "      <td>100</td>\n",
       "      <td>0</td>\n",
       "    </tr>\n",
       "    <tr>\n",
       "      <th>99999</th>\n",
       "      <td>0</td>\n",
       "      <td>57.0</td>\n",
       "      <td>0</td>\n",
       "      <td>0</td>\n",
       "      <td>1</td>\n",
       "      <td>22.43</td>\n",
       "      <td>6.6</td>\n",
       "      <td>90</td>\n",
       "      <td>0</td>\n",
       "    </tr>\n",
       "  </tbody>\n",
       "</table>\n",
       "<p>100000 rows × 9 columns</p>\n",
       "</div>"
      ],
      "text/plain": [
       "       gender   age  hypertension  heart_disease  smoking_history    bmi  \\\n",
       "0           0  80.0             0              1                4  25.19   \n",
       "1           0  54.0             0              0                0  27.32   \n",
       "2           1  28.0             0              0                4  27.32   \n",
       "3           0  36.0             0              0                1  23.45   \n",
       "4           1  76.0             1              1                1  20.14   \n",
       "...       ...   ...           ...            ...              ...    ...   \n",
       "99995       0  80.0             0              0                0  27.32   \n",
       "99996       0   2.0             0              0                0  17.37   \n",
       "99997       1  66.0             0              0                3  27.83   \n",
       "99998       0  24.0             0              0                4  35.42   \n",
       "99999       0  57.0             0              0                1  22.43   \n",
       "\n",
       "       HbA1c_level  blood_glucose_level  diabetes  \n",
       "0              6.6                  140         0  \n",
       "1              6.6                   80         0  \n",
       "2              5.7                  158         0  \n",
       "3              5.0                  155         0  \n",
       "4              4.8                  155         0  \n",
       "...            ...                  ...       ...  \n",
       "99995          6.2                   90         0  \n",
       "99996          6.5                  100         0  \n",
       "99997          5.7                  155         0  \n",
       "99998          4.0                  100         0  \n",
       "99999          6.6                   90         0  \n",
       "\n",
       "[100000 rows x 9 columns]"
      ]
     },
     "execution_count": 109,
     "metadata": {},
     "output_type": "execute_result"
    }
   ],
   "source": [
    "df = pd.read_csv('diabetes_prediction_dataset.csv')\n",
    "\n",
    "# Inisialisasi LabelEncoder\n",
    "label_encoder = LabelEncoder()\n",
    "# # Menggunakan one-hot encoding untuk kolom \"gender\"\n",
    "# df = pd.get_dummies(df, columns=['gender'], prefix=['gender'])\n",
    "\n",
    "# Terapkan LabelEncoder pada atribut \"smoking_history\"\n",
    "df['gender'] = label_encoder.fit_transform(df['gender'])\n",
    "\n",
    "\n",
    "\n",
    "# Terapkan LabelEncoder pada atribut \"smoking_history\"\n",
    "df['smoking_history'] = label_encoder.fit_transform(df['smoking_history'])\n",
    "\n",
    "# Penanganan nilai yang hilang (jika ada)\n",
    "# df = df.dropna() # atau df = df.fillna(value)\n",
    "\n",
    "# Simpan dataset yang sudah dimodifikasi ke file CSV\n",
    "df.to_csv('modified_diabetes_dataset.csv', index=False)\n",
    "\n",
    "df\n"
   ]
  },
  {
   "cell_type": "markdown",
   "id": "5b0a0e15-767e-4248-bdcc-f2a1c1cf3cf6",
   "metadata": {},
   "source": [
    "## Supervised learning\n",
    "\n",
    "### Mengimplementasi metode SVM dengan x gender\tage\thypertension\theart_disease\tsmoking_history\tbmi\tHbA1c_level\tblood_glucose_level\tdiabetes dan targetnya smoking_history "
   ]
  },
  {
   "cell_type": "code",
   "execution_count": 110,
   "id": "446a1544-14ac-47cc-84e9-250a3e595592",
   "metadata": {},
   "outputs": [],
   "source": [
    "\n",
    "column = ['gender', 'age', 'hypertension', 'heart_disease', 'smoking_history', 'bmi', 'HbA1c_level', 'blood_glucose_level',\t'diabetes']\n",
    "x = df[column]\n",
    "y = df['smoking_history']\n",
    "X_train, X_test, y_train, y_test = train_test_split(x,y, test_size=0.25)\n"
   ]
  },
  {
   "cell_type": "markdown",
   "id": "52c28e23-562c-41bd-86d2-a82deaafd914",
   "metadata": {},
   "source": [
    "#### untuk implementasi linear Regression"
   ]
  },
  {
   "cell_type": "code",
   "execution_count": 112,
   "id": "a1a2d6d4-94b2-4128-93d8-612f52c941df",
   "metadata": {},
   "outputs": [],
   "source": [
    "svc = SVC(kernel= 'linear')\n",
    "svc.fit(X_train,y_train)\n",
    "y_pred = svc.predict(X_test)\n"
   ]
  },
  {
   "cell_type": "markdown",
   "id": "ab933224-34c0-4ca2-8d3f-bbb678c00792",
   "metadata": {},
   "source": [
    "#### membuat hasil prediksi dengan Confusion Matrix dan menampilkan Hasilnya"
   ]
  },
  {
   "cell_type": "code",
   "execution_count": 113,
   "id": "de2dda64-6344-45dc-ae4d-80b556a9a0a0",
   "metadata": {},
   "outputs": [
    {
     "data": {
      "image/png": "[encoded data removed]",
      "text/plain": [
       "<Figure size 800x600 with 2 Axes>"
      ]
     },
     "metadata": {},
     "output_type": "display_data"
    },
    {
     "name": "stdout",
     "output_type": "stream",
     "text": [
      "Confusion Matrix:\n",
      "[[9015    0    0    0    0    0]\n",
      " [   0 2341    0    0    0    0]\n",
      " [   0    0  994    0    0    0]\n",
      " [   0    0    0 2300    0    0]\n",
      " [   0    0    0    0 8813    0]\n",
      " [   0    0    0    0    0 1537]]\n",
      "Akurasi model SVM: 1.0\n",
      "Presisi: 1.0\n",
      "Recall: 1.0\n",
      "\n",
      "Classification Report:\n",
      "              precision    recall  f1-score   support\n",
      "\n",
      "           0       1.00      1.00      1.00      9015\n",
      "           1       1.00      1.00      1.00      2341\n",
      "           2       1.00      1.00      1.00       994\n",
      "           3       1.00      1.00      1.00      2300\n",
      "           4       1.00      1.00      1.00      8813\n",
      "           5       1.00      1.00      1.00      1537\n",
      "\n",
      "    accuracy                           1.00     25000\n",
      "   macro avg       1.00      1.00      1.00     25000\n",
      "weighted avg       1.00      1.00      1.00     25000\n",
      "\n"
     ]
    }
   ],
   "source": [
    "import seaborn as sns\n",
    "import matplotlib.pyplot as plt\n",
    "\n",
    "conf_matrix = confusion_matrix(y_test, y_pred)\n",
    "\n",
    "# Menampilkan matriks kebingungan sebagai heatmap\n",
    "plt.figure(figsize=(8, 6))\n",
    "sns.heatmap(conf_matrix, annot=True, cmap=\"Blues\")\n",
    "plt.xlabel('Prediksi')\n",
    "plt.ylabel('Aktual')\n",
    "plt.title('Confusion Matrix Diabetes Binary Class')\n",
    "plt.show()\n",
    "\n",
    "# Menghitung presisi dan recall\n",
    "precision = precision_score(y_test, y_pred, average='macro')  # Ganti 'macro' sesuai kebutuhan Anda\n",
    "recall = recall_score(y_test, y_pred, average='macro')  # Ganti 'macro' sesuai kebutuhan Anda\n",
    "# Mengukur akurasi model\n",
    "accuracy = accuracy_score(y_test, y_pred)\n",
    "\n",
    "\n",
    "# Menampilkan hasil\n",
    "print(\"Confusion Matrix:\")\n",
    "print(conf_matrix)\n",
    "print(f'Akurasi model SVM: {accuracy}')\n",
    "print(f'Presisi: {precision}')\n",
    "print(f'Recall: {recall}')\n",
    "report = classification_report(y_test, y_pred)\n",
    "print(\"\\nClassification Report:\")\n",
    "print(report)"
   ]
  },
  {
   "cell_type": "markdown",
   "id": "30a2a74f-3f84-4fda-9d7c-4c4362dab3dd",
   "metadata": {},
   "source": [
    "## menampilkan plot hasil prediksi"
   ]
  },
  {
   "cell_type": "code",
   "execution_count": 114,
   "id": "af550584-1735-460b-ad76-4ced48fb256e",
   "metadata": {},
   "outputs": [
    {
     "data": {
      "image/png": "[encoded data removed]",
      "text/plain": [
       "<Figure size 1000x600 with 1 Axes>"
      ]
     },
     "metadata": {},
     "output_type": "display_data"
    }
   ],
   "source": [
    "plt.figure(figsize=(10, 6))\n",
    "plt.scatter(X_test['smoking_history'], y_test, color='blue', label='Data Asli')\n",
    "plt.scatter(X_test['smoking_history'], y_pred, color='red', label='Prediksi', marker='x', s=100)\n",
    "plt.xlabel('Nilai')\n",
    "plt.ylabel('Frekuensi')\n",
    "plt.title('Regresi Linear: Prediksi  berdasarkan Smoking History')\n",
    "plt.legend()\n",
    "plt.show()"
   ]
  },
  {
   "cell_type": "code",
   "execution_count": 115,
   "id": "2f446c32-6bf0-459b-9de0-6be819adf60c",
   "metadata": {},
   "outputs": [
    {
     "name": "stdout",
     "output_type": "stream",
     "text": [
      "MAE: 17.921385016471675\n",
      "MSE: 450.64988457150275\n",
      "RMSE: 21.22851583534522\n",
      "R2-Score: 0.11686537798772834\n"
     ]
    }
   ],
   "source": [
    "from sklearn.linear_model import LinearRegression\n",
    "from sklearn.metrics import mean_absolute_error, mean_squared_error, r2_score\n",
    "X = df[['blood_glucose_level', 'bmi']]\n",
    "y = df['age']\n",
    "\n",
    "# Split data menjadi data pelatihan dan pengujian\n",
    "X_train, X_test, y_train, y_test = train_test_split(X, y, test_size=0.2, random_state=42)\n",
    "\n",
    "# Inisialisasi model regresi linear\n",
    "model = LinearRegression()\n",
    "\n",
    "# Latih model pada data pelatihan\n",
    "model.fit(X_train, y_train)\n",
    "\n",
    "# Lakukan prediksi pada data pengujian\n",
    "y_pred = model.predict(X_test)\n",
    "\n",
    "# Evaluasi performa model\n",
    "mae = mean_absolute_error(y_test, y_pred)\n",
    "mse = mean_squared_error(y_test, y_pred)\n",
    "rmse = np.sqrt(mse)\n",
    "\n",
    "print(f'MAE: {mae}')\n",
    "print(f'MSE: {mse}')\n",
    "print(f'RMSE: {rmse}')\n",
    "\n",
    "# Menghitung R2-Score\n",
    "r2 = r2_score(y_test, y_pred)\n",
    "print(f'R2-Score: {r2}')"
   ]
  },
  {
   "cell_type": "markdown",
   "id": "e22ad384-fb09-4bae-8cc6-e9e5c0801d17",
   "metadata": {},
   "source": [
    "## Unsupervised Learning\n",
    "#### Melakukan implementasi metode K-Means"
   ]
  },
  {
   "cell_type": "code",
   "execution_count": 116,
   "id": "c6f9001e-e4cf-407f-bc56-c056c49fcecc",
   "metadata": {},
   "outputs": [],
   "source": [
    "from sklearn.cluster import KMeans\n",
    "\n",
    "x = df[['age','blood_glucose_level']]\n",
    "kmeans = KMeans(n_clusters=10)"
   ]
  },
  {
   "cell_type": "code",
   "execution_count": 117,
   "id": "feaebbb0-5711-41d4-827f-cc48fcc39f31",
   "metadata": {},
   "outputs": [
    {
     "name": "stderr",
     "output_type": "stream",
     "text": [
      "/Users/hdcaps/Library/Python/3.9/lib/python/site-packages/sklearn/cluster/_kmeans.py:1416: FutureWarning: The default value of `n_init` will change from 10 to 'auto' in 1.4. Set the value of `n_init` explicitly to suppress the warning\n",
      "  super()._check_params_vs_input(X, default_n_init=10)\n"
     ]
    },
    {
     "data": {
      "text/html": [
       "<style>#sk-container-id-6 {color: black;}#sk-container-id-6 pre{padding: 0;}#sk-container-id-6 div.sk-toggleable {background-color: white;}#sk-container-id-6 label.sk-toggleable__label {cursor: pointer;display: block;width: 100%;margin-bottom: 0;padding: 0.3em;box-sizing: border-box;text-align: center;}#sk-container-id-6 label.sk-toggleable__label-arrow:before {content: \"▸\";float: left;margin-right: 0.25em;color: #696969;}#sk-container-id-6 label.sk-toggleable__label-arrow:hover:before {color: black;}#sk-container-id-6 div.sk-estimator:hover label.sk-toggleable__label-arrow:before {color: black;}#sk-container-id-6 div.sk-toggleable__content {max-height: 0;max-width: 0;overflow: hidden;text-align: left;background-color: #f0f8ff;}#sk-container-id-6 div.sk-toggleable__content pre {margin: 0.2em;color: black;border-radius: 0.25em;background-color: #f0f8ff;}#sk-container-id-6 input.sk-toggleable__control:checked~div.sk-toggleable__content {max-height: 200px;max-width: 100%;overflow: auto;}#sk-container-id-6 input.sk-toggleable__control:checked~label.sk-toggleable__label-arrow:before {content: \"▾\";}#sk-container-id-6 div.sk-estimator input.sk-toggleable__control:checked~label.sk-toggleable__label {background-color: #d4ebff;}#sk-container-id-6 div.sk-label input.sk-toggleable__control:checked~label.sk-toggleable__label {background-color: #d4ebff;}#sk-container-id-6 input.sk-hidden--visually {border: 0;clip: rect(1px 1px 1px 1px);clip: rect(1px, 1px, 1px, 1px);height: 1px;margin: -1px;overflow: hidden;padding: 0;position: absolute;width: 1px;}#sk-container-id-6 div.sk-estimator {font-family: monospace;background-color: #f0f8ff;border: 1px dotted black;border-radius: 0.25em;box-sizing: border-box;margin-bottom: 0.5em;}#sk-container-id-6 div.sk-estimator:hover {background-color: #d4ebff;}#sk-container-id-6 div.sk-parallel-item::after {content: \"\";width: 100%;border-bottom: 1px solid gray;flex-grow: 1;}#sk-container-id-6 div.sk-label:hover label.sk-toggleable__label {background-color: #d4ebff;}#sk-container-id-6 div.sk-serial::before {content: \"\";position: absolute;border-left: 1px solid gray;box-sizing: border-box;top: 0;bottom: 0;left: 50%;z-index: 0;}#sk-container-id-6 div.sk-serial {display: flex;flex-direction: column;align-items: center;background-color: white;padding-right: 0.2em;padding-left: 0.2em;position: relative;}#sk-container-id-6 div.sk-item {position: relative;z-index: 1;}#sk-container-id-6 div.sk-parallel {display: flex;align-items: stretch;justify-content: center;background-color: white;position: relative;}#sk-container-id-6 div.sk-item::before, #sk-container-id-6 div.sk-parallel-item::before {content: \"\";position: absolute;border-left: 1px solid gray;box-sizing: border-box;top: 0;bottom: 0;left: 50%;z-index: -1;}#sk-container-id-6 div.sk-parallel-item {display: flex;flex-direction: column;z-index: 1;position: relative;background-color: white;}#sk-container-id-6 div.sk-parallel-item:first-child::after {align-self: flex-end;width: 50%;}#sk-container-id-6 div.sk-parallel-item:last-child::after {align-self: flex-start;width: 50%;}#sk-container-id-6 div.sk-parallel-item:only-child::after {width: 0;}#sk-container-id-6 div.sk-dashed-wrapped {border: 1px dashed gray;margin: 0 0.4em 0.5em 0.4em;box-sizing: border-box;padding-bottom: 0.4em;background-color: white;}#sk-container-id-6 div.sk-label label {font-family: monospace;font-weight: bold;display: inline-block;line-height: 1.2em;}#sk-container-id-6 div.sk-label-container {text-align: center;}#sk-container-id-6 div.sk-container {/* jupyter's `normalize.less` sets `[hidden] { display: none; }` but bootstrap.min.css set `[hidden] { display: none !important; }` so we also need the `!important` here to be able to override the default hidden behavior on the sphinx rendered scikit-learn.org. See: https://github.com/scikit-learn/scikit-learn/issues/21755 */display: inline-block !important;position: relative;}#sk-container-id-6 div.sk-text-repr-fallback {display: none;}</style><div id=\"sk-container-id-6\" class=\"sk-top-container\"><div class=\"sk-text-repr-fallback\"><pre>KMeans(n_clusters=10)</pre><b>In a Jupyter environment, please rerun this cell to show the HTML representation or trust the notebook. <br />On GitHub, the HTML representation is unable to render, please try loading this page with nbviewer.org.</b></div><div class=\"sk-container\" hidden><div class=\"sk-item\"><div class=\"sk-estimator sk-toggleable\"><input class=\"sk-toggleable__control sk-hidden--visually\" id=\"sk-estimator-id-6\" type=\"checkbox\" checked><label for=\"sk-estimator-id-6\" class=\"sk-toggleable__label sk-toggleable__label-arrow\">KMeans</label><div class=\"sk-toggleable__content\"><pre>KMeans(n_clusters=10)</pre></div></div></div></div></div>"
      ],
      "text/plain": [
       "KMeans(n_clusters=10)"
      ]
     },
     "execution_count": 117,
     "metadata": {},
     "output_type": "execute_result"
    }
   ],
   "source": [
    "kmeans.fit(x)"
   ]
  },
  {
   "cell_type": "code",
   "execution_count": 118,
   "id": "90d1e03e-18dd-4a55-95ac-71acc2ad7e2c",
   "metadata": {},
   "outputs": [],
   "source": [
    "labels = kmeans.labels_\n",
    "df[\"cluster\"] = labels\n",
    "centroids = kmeans.cluster_centers_"
   ]
  },
  {
   "cell_type": "markdown",
   "id": "3e812bef-c5b3-4203-962b-e335224c8e20",
   "metadata": {},
   "source": [
    "### Menampilkan hasil cluster dengan 3 metrik evaluasi"
   ]
  },
  {
   "cell_type": "code",
   "execution_count": 119,
   "id": "9851c096-233e-418b-beab-7afca608805d",
   "metadata": {},
   "outputs": [
    {
     "data": {
      "image/png": "[encoded data removed]",
      "text/plain": [
       "<Figure size 640x480 with 1 Axes>"
      ]
     },
     "metadata": {},
     "output_type": "display_data"
    }
   ],
   "source": [
    "plt.scatter(x['age'], x['blood_glucose_level'], c=labels, cmap='viridis')\n",
    "plt.scatter(centroids[:, 0], centroids[:, 1], c='red', marker='x')\n",
    "plt.xlabel('age')\n",
    "plt.ylabel('Kadar Gula Glukosa')\n",
    "plt.title('Hasil K-Means Clustering')\n",
    "plt.show()"
   ]
  },
  {
   "cell_type": "markdown",
   "id": "f7f1b80d-1d09-434a-b441-aad4d77ba754",
   "metadata": {},
   "source": [
    "## melakukan evaluasi cluster yang sudah diprediksi"
   ]
  },
  {
   "cell_type": "code",
   "execution_count": 120,
   "id": "407cf236-7fa8-45de-899d-0048794ea486",
   "metadata": {},
   "outputs": [
    {
     "name": "stdout",
     "output_type": "stream",
     "text": [
      "Silhouette Score: 0.41068313536832624\n",
      "Davies-Bouldin Index: 0.7719445559641482\n",
      "Calinski-Harabasz Index: 130743.01711738636\n"
     ]
    }
   ],
   "source": [
    "from sklearn.metrics import silhouette_score,davies_bouldin_score,calinski_harabasz_score\n",
    "silhouette_avg = silhouette_score(x, labels)\n",
    "davies_bouldin = davies_bouldin_score(x, labels)\n",
    "calinski_harabasz = calinski_harabasz_score(x, labels)\n",
    "print(f\"Silhouette Score: {silhouette_avg}\")\n",
    "print(f\"Davies-Bouldin Index: {davies_bouldin}\")\n",
    "print(f\"Calinski-Harabasz Index: {calinski_harabasz}\")"
   ]
  },
  {
   "cell_type": "code",
   "execution_count": 121,
   "id": "7ec9e553-8c71-4c07-9369-27f41e6a5a57",
   "metadata": {},
   "outputs": [],
   "source": [
    "from sklearn.metrics import adjusted_rand_score, normalized_mutual_info_score, homogeneity_score, completeness_score,v_measure_score"
   ]
  },
  {
   "cell_type": "code",
   "execution_count": 122,
   "id": "e7cb22f5-f2fb-4df1-b846-bd2a7b05eda3",
   "metadata": {},
   "outputs": [
    {
     "name": "stdout",
     "output_type": "stream",
     "text": [
      "Cross-Tabulation:\n",
      "age      0.08   0.16   0.24   0.32   0.40   0.48   0.56   0.64   0.72   0.80   \\\n",
      "cluster                                                                         \n",
      "0            0      0      0      0      0      0      0      0      0      0   \n",
      "1            0      0      0      0      0      0      0      0      0      0   \n",
      "2            0      0      0      0      0      0      0      0      0      0   \n",
      "3           24     36     53     58     42     51     62     66     68     64   \n",
      "4            0      0      0      0      0      0      0      0      0      0   \n",
      "5            0      0      0      0      0      0      0      0      0      0   \n",
      "6            3      3      3      4      7      8      8      7      5      9   \n",
      "7            0      0      0      0      0      0      0      0      0      0   \n",
      "8            9     20     31     27     17     24     26     26     31     29   \n",
      "9            0      0      0      0      0      0      0      0      0      0   \n",
      "\n",
      "age      ...  71.00  72.00  73.00  74.00  75.00  76.00  77.00  78.00  79.00  \\\n",
      "cluster  ...                                                                  \n",
      "0        ...     83     85     78    102     80     72     88     68     76   \n",
      "1        ...      0      0      0      0      0      0      0      0      0   \n",
      "2        ...      0      0      0      0      0      0      0      0      0   \n",
      "3        ...      0      0      0      0      0      0      0      0      0   \n",
      "4        ...     46     41     39     37     41     23     26     33     37   \n",
      "5        ...    133    106    136    119    109    118    118    115     83   \n",
      "6        ...      0      0      0      0      0      0      0      0      0   \n",
      "7        ...    216    175    197    162    166    167    193    171    146   \n",
      "8        ...      0      0      0      0      0      0      0      0      0   \n",
      "9        ...    393    383    373    344    325    353    305    295    279   \n",
      "\n",
      "age      80.00  \n",
      "cluster         \n",
      "0          597  \n",
      "1            0  \n",
      "2            0  \n",
      "3            0  \n",
      "4          244  \n",
      "5          873  \n",
      "6            0  \n",
      "7         1456  \n",
      "8            0  \n",
      "9         2451  \n",
      "\n",
      "[10 rows x 102 columns] \n",
      "\n"
     ]
    }
   ],
   "source": [
    "cross_tab = pd.crosstab(df[\"cluster\"], df[\"age\"])\n",
    "print(\"Cross-Tabulation:\")\n",
    "print(cross_tab, \"\\n\")"
   ]
  },
  {
   "cell_type": "code",
   "execution_count": 123,
   "id": "f81b9933-f05b-464b-b957-93f6d698f02e",
   "metadata": {},
   "outputs": [
    {
     "name": "stderr",
     "output_type": "stream",
     "text": [
      "/Users/hdcaps/Library/Python/3.9/lib/python/site-packages/sklearn/metrics/cluster/_supervised.py:66: UserWarning: Clustering metrics expects discrete values but received continuous values for label, and multiclass values for target\n",
      "  warnings.warn(msg, UserWarning)\n",
      "/Users/hdcaps/Library/Python/3.9/lib/python/site-packages/sklearn/metrics/cluster/_supervised.py:66: UserWarning: Clustering metrics expects discrete values but received continuous values for label, and multiclass values for target\n",
      "  warnings.warn(msg, UserWarning)\n",
      "/Users/hdcaps/Library/Python/3.9/lib/python/site-packages/sklearn/metrics/cluster/_supervised.py:66: UserWarning: Clustering metrics expects discrete values but received continuous values for label, and multiclass values for target\n",
      "  warnings.warn(msg, UserWarning)\n",
      "/Users/hdcaps/Library/Python/3.9/lib/python/site-packages/sklearn/metrics/cluster/_supervised.py:66: UserWarning: Clustering metrics expects discrete values but received continuous values for label, and multiclass values for target\n",
      "  warnings.warn(msg, UserWarning)\n"
     ]
    },
    {
     "name": "stdout",
     "output_type": "stream",
     "text": [
      "Adjusted Rand Index (ARI): 0.04\n",
      "Normalized Mutual Information (NMI): 0.28\n",
      "Homogeneity Score: 0.21\n",
      "Completeness Score: 0.43\n",
      "V-Measure Score: 0.28\n"
     ]
    }
   ],
   "source": [
    "ari = adjusted_rand_score(df[\"age\"], labels)\n",
    "print(f\"Adjusted Rand Index (ARI): {ari:.2f}\")\n",
    "true_labels_num = df[\"age\"].astype(\"category\").cat.codes\n",
    "nmi = normalized_mutual_info_score(true_labels_num, labels)\n",
    "print(f\"Normalized Mutual Information (NMI): {nmi:.2f}\")\n",
    "# Fungsi HCV-M\n",
    "homogeneity = homogeneity_score(df[\"age\"], labels)\n",
    "completeness = completeness_score(df[\"age\"], labels)\n",
    "v_measure = v_measure_score(df[\"age\"], labels)\n",
    "print(f\"Homogeneity Score: {homogeneity:.2f}\")\n",
    "print(f\"Completeness Score: {completeness:.2f}\")\n",
    "print(f\"V-Measure Score: {v_measure:.2f}\")"
   ]
  },
  {
   "cell_type": "code",
   "execution_count": null,
   "id": "4d4c2906-dce8-4b09-9736-8407c5bf358a",
   "metadata": {},
   "outputs": [],
   "source": []
  }
 ],
 "metadata": {
  "kernelspec": {
   "display_name": "Python 3 (ipykernel)",
   "language": "python",
   "name": "python3"
  },
  "language_info": {
   "codemirror_mode": {
    "name": "ipython",
    "version": 3
   },
   "file_extension": ".py",
   "mimetype": "text/x-python",
   "name": "python",
   "nbconvert_exporter": "python",
   "pygments_lexer": "ipython3",
   "version": "3.9.8"
  }
 },
 "nbformat": 4,
 "nbformat_minor": 5
}
